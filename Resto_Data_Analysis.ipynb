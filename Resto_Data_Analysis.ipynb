{
  "nbformat": 4,
  "nbformat_minor": 0,
  "metadata": {
    "colab": {
      "provenance": [],
      "collapsed_sections": []
    },
    "kernelspec": {
      "name": "python3",
      "display_name": "Python 3"
    }
  },
  "cells": [
    {
      "cell_type": "markdown",
      "metadata": {
        "id": "VBDtyvUMd4Sw"
      },
      "source": [
        "#1. Restoaccepts, userpayment"
      ]
    },
    {
      "cell_type": "code",
      "metadata": {
        "id": "ktilZ4WqQ64B",
        "colab": {
          "base_uri": "https://localhost:8080/"
        },
        "outputId": "c3065593-cc96-4bb7-ea12-a3b59db5e4e6"
      },
      "source": [
        "from google.colab import drive\n",
        "drive.mount('/content/drive')"
      ],
      "execution_count": null,
      "outputs": [
        {
          "output_type": "stream",
          "name": "stdout",
          "text": [
            "Mounted at /content/drive\n"
          ]
        }
      ]
    },
    {
      "cell_type": "markdown",
      "metadata": {
        "id": "q8_3HiKtRBlJ"
      },
      "source": [
        "Fix Payment method string. Remove '_','-' and Capitalized first word in restoaccepts.csv and userpayment.csv, and all uppercase for VISA."
      ]
    },
    {
      "cell_type": "code",
      "metadata": {
        "id": "F-7XyBtnZgj7",
        "colab": {
          "base_uri": "https://localhost:8080/",
          "height": 402
        },
        "outputId": "b73437fb-262a-4f88-9609-606d2c8ae73d"
      },
      "source": [
        "#YOUR CODE HERE\n",
        "import pandas as pd\n",
        "\n",
        "def restoaccepts() :\n",
        "  #read dataset restoaccepts\n",
        "  df_restoaccepts = pd.read_csv('/content/drive/My Drive/Python For Data Science Project/Week 4_Final Project/data/restoaccepts.csv')\n",
        "  #clean data\n",
        "  clean_data_restoaccepts = df_restoaccepts.copy()\n",
        "  #Clean '-' and '_'\n",
        "  clean_data_restoaccepts['Rpayment'] = clean_data_restoaccepts.Rpayment.str.replace('-',' ').str.replace('_',' ')\n",
        "  #Make every first character in Rpayment capitalized\n",
        "  clean_data_restoaccepts['Rpayment'] = clean_data_restoaccepts['Rpayment'].str.title()\n",
        "  #Make visa become uppercase (VISA)\n",
        "  clean_data_restoaccepts['Rpayment'] = clean_data_restoaccepts.Rpayment.str.replace('Visa', 'VISA')\n",
        "  #show data\n",
        "  return(clean_data_restoaccepts)\n",
        "\n",
        "restoaccepts()"
      ],
      "execution_count": null,
      "outputs": [
        {
          "output_type": "execute_result",
          "data": {
            "text/html": [
              "<div>\n",
              "<style scoped>\n",
              "    .dataframe tbody tr th:only-of-type {\n",
              "        vertical-align: middle;\n",
              "    }\n",
              "\n",
              "    .dataframe tbody tr th {\n",
              "        vertical-align: top;\n",
              "    }\n",
              "\n",
              "    .dataframe thead th {\n",
              "        text-align: right;\n",
              "    }\n",
              "</style>\n",
              "<table border=\"1\" class=\"dataframe\">\n",
              "  <thead>\n",
              "    <tr style=\"text-align: right;\">\n",
              "      <th></th>\n",
              "      <th>placeID</th>\n",
              "      <th>Rpayment</th>\n",
              "    </tr>\n",
              "  </thead>\n",
              "  <tbody>\n",
              "    <tr>\n",
              "      <th>0</th>\n",
              "      <td>135110</td>\n",
              "      <td>Cash</td>\n",
              "    </tr>\n",
              "    <tr>\n",
              "      <th>1</th>\n",
              "      <td>135110</td>\n",
              "      <td>VISA</td>\n",
              "    </tr>\n",
              "    <tr>\n",
              "      <th>2</th>\n",
              "      <td>135110</td>\n",
              "      <td>Mastercard Eurocard</td>\n",
              "    </tr>\n",
              "    <tr>\n",
              "      <th>3</th>\n",
              "      <td>135110</td>\n",
              "      <td>American Express</td>\n",
              "    </tr>\n",
              "    <tr>\n",
              "      <th>4</th>\n",
              "      <td>135110</td>\n",
              "      <td>Bank Debit Cards</td>\n",
              "    </tr>\n",
              "    <tr>\n",
              "      <th>...</th>\n",
              "      <td>...</td>\n",
              "      <td>...</td>\n",
              "    </tr>\n",
              "    <tr>\n",
              "      <th>1309</th>\n",
              "      <td>132012</td>\n",
              "      <td>Diners Club</td>\n",
              "    </tr>\n",
              "    <tr>\n",
              "      <th>1310</th>\n",
              "      <td>132002</td>\n",
              "      <td>Mastercard Eurocard</td>\n",
              "    </tr>\n",
              "    <tr>\n",
              "      <th>1311</th>\n",
              "      <td>132002</td>\n",
              "      <td>VISA</td>\n",
              "    </tr>\n",
              "    <tr>\n",
              "      <th>1312</th>\n",
              "      <td>132002</td>\n",
              "      <td>American Express</td>\n",
              "    </tr>\n",
              "    <tr>\n",
              "      <th>1313</th>\n",
              "      <td>132002</td>\n",
              "      <td>Diners Club</td>\n",
              "    </tr>\n",
              "  </tbody>\n",
              "</table>\n",
              "<p>1314 rows × 2 columns</p>\n",
              "</div>"
            ],
            "text/plain": [
              "      placeID             Rpayment\n",
              "0      135110                 Cash\n",
              "1      135110                 VISA\n",
              "2      135110  Mastercard Eurocard\n",
              "3      135110     American Express\n",
              "4      135110     Bank Debit Cards\n",
              "...       ...                  ...\n",
              "1309   132012          Diners Club\n",
              "1310   132002  Mastercard Eurocard\n",
              "1311   132002                 VISA\n",
              "1312   132002     American Express\n",
              "1313   132002          Diners Club\n",
              "\n",
              "[1314 rows x 2 columns]"
            ]
          },
          "metadata": {
            "tags": []
          },
          "execution_count": 4
        }
      ]
    },
    {
      "cell_type": "code",
      "metadata": {
        "id": "zyXm5c1KRvZU",
        "colab": {
          "base_uri": "https://localhost:8080/",
          "height": 402
        },
        "outputId": "a2b3e992-f893-42db-b52d-9740d2862197"
      },
      "source": [
        "def userpayment() :\n",
        "  #read dataset userpayment\n",
        "  df_userpayment = pd.read_csv('/content/drive/My Drive/Python For Data Science Project/Week 4_Final Project/data/userpayment.csv')\n",
        "  #clean data\n",
        "  clean_data_userpayment = df_userpayment.copy()\n",
        "  #clean '-' and '_'\n",
        "  clean_data_userpayment['Upayment'] = clean_data_userpayment.Upayment.str.replace('-',' ').str.replace('_',' ')\n",
        "  #make every first character in Rpayment capitalized\n",
        "  clean_data_userpayment['Upayment'] = clean_data_userpayment['Upayment'].str.title()\n",
        "  #make visa become uppercase (VISA)\n",
        "  clean_data_userpayment['Upayment'] = clean_data_userpayment.Upayment.str.replace('Visa', 'VISA')\n",
        "  #show data\n",
        "  return(clean_data_userpayment)\n",
        "\n",
        "userpayment()"
      ],
      "execution_count": null,
      "outputs": [
        {
          "output_type": "execute_result",
          "data": {
            "text/html": [
              "<div>\n",
              "<style scoped>\n",
              "    .dataframe tbody tr th:only-of-type {\n",
              "        vertical-align: middle;\n",
              "    }\n",
              "\n",
              "    .dataframe tbody tr th {\n",
              "        vertical-align: top;\n",
              "    }\n",
              "\n",
              "    .dataframe thead th {\n",
              "        text-align: right;\n",
              "    }\n",
              "</style>\n",
              "<table border=\"1\" class=\"dataframe\">\n",
              "  <thead>\n",
              "    <tr style=\"text-align: right;\">\n",
              "      <th></th>\n",
              "      <th>userID</th>\n",
              "      <th>Upayment</th>\n",
              "    </tr>\n",
              "  </thead>\n",
              "  <tbody>\n",
              "    <tr>\n",
              "      <th>0</th>\n",
              "      <td>U1001</td>\n",
              "      <td>Cash</td>\n",
              "    </tr>\n",
              "    <tr>\n",
              "      <th>1</th>\n",
              "      <td>U1002</td>\n",
              "      <td>Cash</td>\n",
              "    </tr>\n",
              "    <tr>\n",
              "      <th>2</th>\n",
              "      <td>U1003</td>\n",
              "      <td>Cash</td>\n",
              "    </tr>\n",
              "    <tr>\n",
              "      <th>3</th>\n",
              "      <td>U1004</td>\n",
              "      <td>Cash</td>\n",
              "    </tr>\n",
              "    <tr>\n",
              "      <th>4</th>\n",
              "      <td>U1004</td>\n",
              "      <td>Bank Debit Cards</td>\n",
              "    </tr>\n",
              "    <tr>\n",
              "      <th>...</th>\n",
              "      <td>...</td>\n",
              "      <td>...</td>\n",
              "    </tr>\n",
              "    <tr>\n",
              "      <th>172</th>\n",
              "      <td>U1134</td>\n",
              "      <td>Cash</td>\n",
              "    </tr>\n",
              "    <tr>\n",
              "      <th>173</th>\n",
              "      <td>U1135</td>\n",
              "      <td>Cash</td>\n",
              "    </tr>\n",
              "    <tr>\n",
              "      <th>174</th>\n",
              "      <td>U1136</td>\n",
              "      <td>Cash</td>\n",
              "    </tr>\n",
              "    <tr>\n",
              "      <th>175</th>\n",
              "      <td>U1137</td>\n",
              "      <td>Cash</td>\n",
              "    </tr>\n",
              "    <tr>\n",
              "      <th>176</th>\n",
              "      <td>U1138</td>\n",
              "      <td>Cash</td>\n",
              "    </tr>\n",
              "  </tbody>\n",
              "</table>\n",
              "<p>177 rows × 2 columns</p>\n",
              "</div>"
            ],
            "text/plain": [
              "    userID          Upayment\n",
              "0    U1001              Cash\n",
              "1    U1002              Cash\n",
              "2    U1003              Cash\n",
              "3    U1004              Cash\n",
              "4    U1004  Bank Debit Cards\n",
              "..     ...               ...\n",
              "172  U1134              Cash\n",
              "173  U1135              Cash\n",
              "174  U1136              Cash\n",
              "175  U1137              Cash\n",
              "176  U1138              Cash\n",
              "\n",
              "[177 rows x 2 columns]"
            ]
          },
          "metadata": {
            "tags": []
          },
          "execution_count": 17
        }
      ]
    },
    {
      "cell_type": "code",
      "metadata": {
        "id": "hKSF6q7C_HH4"
      },
      "source": [
        "resto_acc = restoaccepts()\n",
        "user_payment = userpayment()\n",
        "df_list = [resto_acc,user_payment]\n",
        "resto_pay = resto_acc.Rpayment.unique() \n",
        "user_pay = user_payment.Upayment.unique()"
      ],
      "execution_count": null,
      "outputs": []
    },
    {
      "cell_type": "code",
      "metadata": {
        "id": "wwfCO00SeC1V",
        "colab": {
          "base_uri": "https://localhost:8080/",
          "height": 52
        },
        "outputId": "2ff634ae-7298-4b8d-9271-fabab003ab72"
      },
      "source": [
        "#RUN THIS CELL TO GET YOUR SCORE AND DO NOT EDIT\n",
        "import os\n",
        "\n",
        "os.chdir('/content/drive/My Drive/Python For Data Science Project/Week 4_Final Project/data')\n",
        "import Restopayment\n",
        "import pandas as pd\n",
        "import numpy as np\n",
        "\n",
        "#CHANGE NONE TO YOUR OWN LIST VARIABLE NAME\n",
        "print(Restopayment.score_resto_pay(resto_pay))\n",
        "print(Restopayment.score_user_pay(user_pay))"
      ],
      "execution_count": null,
      "outputs": [
        {
          "output_type": "stream",
          "text": [
            "Your score restaurant payment: 100.0%\n",
            "Your score for user payment: 100.0%\n"
          ],
          "name": "stdout"
        }
      ]
    },
    {
      "cell_type": "markdown",
      "metadata": {
        "id": "9n_fJ8-khmGe"
      },
      "source": [
        "#2. restocuisine, usercuisine"
      ]
    },
    {
      "cell_type": "markdown",
      "metadata": {
        "id": "MfjEBjfwhnA3"
      },
      "source": [
        "Fix cuisine string. Remove '_','-'."
      ]
    },
    {
      "cell_type": "code",
      "metadata": {
        "id": "RKnsSO-nZNwn",
        "colab": {
          "base_uri": "https://localhost:8080/",
          "height": 402
        },
        "outputId": "a333dd98-db7d-4a3a-ea60-bbab1f4d5459"
      },
      "source": [
        "def restocuisine() :\n",
        "  #read dataset restocuisine\n",
        "  df_restocuisine = pd.read_csv('/content/drive/My Drive/Python For Data Science Project/Week 4_Final Project/data/restocuisine.csv')\n",
        "  #clean data\n",
        "  clean_data_restocuisine = df_restocuisine.copy()\n",
        "  #clean '-' and '_'\n",
        "  clean_data_restocuisine['Rcuisine'] = clean_data_restocuisine.Rcuisine.str.replace('-',' ').str.replace('_',' ')\n",
        "  #show data\n",
        "  return(clean_data_restocuisine)\n",
        "\n",
        "restocuisine()"
      ],
      "execution_count": null,
      "outputs": [
        {
          "output_type": "execute_result",
          "data": {
            "text/html": [
              "<div>\n",
              "<style scoped>\n",
              "    .dataframe tbody tr th:only-of-type {\n",
              "        vertical-align: middle;\n",
              "    }\n",
              "\n",
              "    .dataframe tbody tr th {\n",
              "        vertical-align: top;\n",
              "    }\n",
              "\n",
              "    .dataframe thead th {\n",
              "        text-align: right;\n",
              "    }\n",
              "</style>\n",
              "<table border=\"1\" class=\"dataframe\">\n",
              "  <thead>\n",
              "    <tr style=\"text-align: right;\">\n",
              "      <th></th>\n",
              "      <th>placeID</th>\n",
              "      <th>Rcuisine</th>\n",
              "    </tr>\n",
              "  </thead>\n",
              "  <tbody>\n",
              "    <tr>\n",
              "      <th>0</th>\n",
              "      <td>135110</td>\n",
              "      <td>Spanish</td>\n",
              "    </tr>\n",
              "    <tr>\n",
              "      <th>1</th>\n",
              "      <td>135109</td>\n",
              "      <td>Italian</td>\n",
              "    </tr>\n",
              "    <tr>\n",
              "      <th>2</th>\n",
              "      <td>135107</td>\n",
              "      <td>Latin American</td>\n",
              "    </tr>\n",
              "    <tr>\n",
              "      <th>3</th>\n",
              "      <td>135106</td>\n",
              "      <td>Mexican</td>\n",
              "    </tr>\n",
              "    <tr>\n",
              "      <th>4</th>\n",
              "      <td>135105</td>\n",
              "      <td>Fast Food</td>\n",
              "    </tr>\n",
              "    <tr>\n",
              "      <th>...</th>\n",
              "      <td>...</td>\n",
              "      <td>...</td>\n",
              "    </tr>\n",
              "    <tr>\n",
              "      <th>911</th>\n",
              "      <td>132005</td>\n",
              "      <td>Seafood</td>\n",
              "    </tr>\n",
              "    <tr>\n",
              "      <th>912</th>\n",
              "      <td>132004</td>\n",
              "      <td>Seafood</td>\n",
              "    </tr>\n",
              "    <tr>\n",
              "      <th>913</th>\n",
              "      <td>132003</td>\n",
              "      <td>International</td>\n",
              "    </tr>\n",
              "    <tr>\n",
              "      <th>914</th>\n",
              "      <td>132002</td>\n",
              "      <td>Seafood</td>\n",
              "    </tr>\n",
              "    <tr>\n",
              "      <th>915</th>\n",
              "      <td>132001</td>\n",
              "      <td>Dutch Belgian</td>\n",
              "    </tr>\n",
              "  </tbody>\n",
              "</table>\n",
              "<p>916 rows × 2 columns</p>\n",
              "</div>"
            ],
            "text/plain": [
              "     placeID        Rcuisine\n",
              "0     135110         Spanish\n",
              "1     135109         Italian\n",
              "2     135107  Latin American\n",
              "3     135106         Mexican\n",
              "4     135105       Fast Food\n",
              "..       ...             ...\n",
              "911   132005         Seafood\n",
              "912   132004         Seafood\n",
              "913   132003   International\n",
              "914   132002         Seafood\n",
              "915   132001   Dutch Belgian\n",
              "\n",
              "[916 rows x 2 columns]"
            ]
          },
          "metadata": {
            "tags": []
          },
          "execution_count": 16
        }
      ]
    },
    {
      "cell_type": "code",
      "metadata": {
        "id": "WucJHjsUjIIm",
        "colab": {
          "base_uri": "https://localhost:8080/",
          "height": 402
        },
        "outputId": "89b0f324-b368-4f8e-ab36-1e279086c4dc"
      },
      "source": [
        "def usercuisine() :\n",
        "  #read dataset usercuisine\n",
        "  df_usercuisine = pd.read_csv('/content/drive/My Drive/Python For Data Science Project/Week 4_Final Project/data/usercuisine.csv')\n",
        "  #clean data\n",
        "  clean_data_usercuisine = df_usercuisine.copy()\n",
        "  #clean '-' and '_'\n",
        "  clean_data_usercuisine['Rcuisine'] = clean_data_usercuisine.Rcuisine.str.replace('-',' ').str.replace('_',' ')\n",
        "  #show data\n",
        "  return(clean_data_usercuisine)\n",
        "\n",
        "usercuisine()"
      ],
      "execution_count": null,
      "outputs": [
        {
          "output_type": "execute_result",
          "data": {
            "text/html": [
              "<div>\n",
              "<style scoped>\n",
              "    .dataframe tbody tr th:only-of-type {\n",
              "        vertical-align: middle;\n",
              "    }\n",
              "\n",
              "    .dataframe tbody tr th {\n",
              "        vertical-align: top;\n",
              "    }\n",
              "\n",
              "    .dataframe thead th {\n",
              "        text-align: right;\n",
              "    }\n",
              "</style>\n",
              "<table border=\"1\" class=\"dataframe\">\n",
              "  <thead>\n",
              "    <tr style=\"text-align: right;\">\n",
              "      <th></th>\n",
              "      <th>userID</th>\n",
              "      <th>Rcuisine</th>\n",
              "    </tr>\n",
              "  </thead>\n",
              "  <tbody>\n",
              "    <tr>\n",
              "      <th>0</th>\n",
              "      <td>U1001</td>\n",
              "      <td>American</td>\n",
              "    </tr>\n",
              "    <tr>\n",
              "      <th>1</th>\n",
              "      <td>U1002</td>\n",
              "      <td>Mexican</td>\n",
              "    </tr>\n",
              "    <tr>\n",
              "      <th>2</th>\n",
              "      <td>U1003</td>\n",
              "      <td>Mexican</td>\n",
              "    </tr>\n",
              "    <tr>\n",
              "      <th>3</th>\n",
              "      <td>U1004</td>\n",
              "      <td>Bakery</td>\n",
              "    </tr>\n",
              "    <tr>\n",
              "      <th>4</th>\n",
              "      <td>U1004</td>\n",
              "      <td>Breakfast Brunch</td>\n",
              "    </tr>\n",
              "    <tr>\n",
              "      <th>...</th>\n",
              "      <td>...</td>\n",
              "      <td>...</td>\n",
              "    </tr>\n",
              "    <tr>\n",
              "      <th>325</th>\n",
              "      <td>U1135</td>\n",
              "      <td>Southern</td>\n",
              "    </tr>\n",
              "    <tr>\n",
              "      <th>326</th>\n",
              "      <td>U1135</td>\n",
              "      <td>Dessert Ice Cream</td>\n",
              "    </tr>\n",
              "    <tr>\n",
              "      <th>327</th>\n",
              "      <td>U1136</td>\n",
              "      <td>Mexican</td>\n",
              "    </tr>\n",
              "    <tr>\n",
              "      <th>328</th>\n",
              "      <td>U1137</td>\n",
              "      <td>Mexican</td>\n",
              "    </tr>\n",
              "    <tr>\n",
              "      <th>329</th>\n",
              "      <td>U1138</td>\n",
              "      <td>Pizzeria</td>\n",
              "    </tr>\n",
              "  </tbody>\n",
              "</table>\n",
              "<p>330 rows × 2 columns</p>\n",
              "</div>"
            ],
            "text/plain": [
              "    userID           Rcuisine\n",
              "0    U1001           American\n",
              "1    U1002            Mexican\n",
              "2    U1003            Mexican\n",
              "3    U1004             Bakery\n",
              "4    U1004   Breakfast Brunch\n",
              "..     ...                ...\n",
              "325  U1135           Southern\n",
              "326  U1135  Dessert Ice Cream\n",
              "327  U1136            Mexican\n",
              "328  U1137            Mexican\n",
              "329  U1138           Pizzeria\n",
              "\n",
              "[330 rows x 2 columns]"
            ]
          },
          "metadata": {
            "tags": []
          },
          "execution_count": 18
        }
      ]
    },
    {
      "cell_type": "code",
      "metadata": {
        "id": "PE24PxUnA0DI"
      },
      "source": [
        "resto_cuis = restocuisine()\n",
        "user_cuis = usercuisine()\n",
        "df_list = [resto_cuis,user_cuis]\n",
        "resto_cuisine = resto_cuis.Rcuisine.unique() \n",
        "user_cuisine = user_cuis.Rcuisine.unique()"
      ],
      "execution_count": null,
      "outputs": []
    },
    {
      "cell_type": "code",
      "metadata": {
        "id": "jOesZZjPhQMO",
        "colab": {
          "base_uri": "https://localhost:8080/",
          "height": 52
        },
        "outputId": "2b9d8670-f398-4b5a-f38e-9bec1bedb6e5"
      },
      "source": [
        "#RUN THIS CELL TO GET YOUR SCORE AND DO NOT EDIT\n",
        "import os\n",
        "\n",
        "os.chdir('/content/drive/My Drive/Python For Data Science Project/Week 4_Final Project/data')\n",
        "import Restocusine\n",
        "import pandas as pd\n",
        "import numpy as np\n",
        "\n",
        "#CHANGE NONE TO YOUR OWN LIST VARIABLE NAME\n",
        "print(Restocusine.score_resto_cuis(resto_cuisine))\n",
        "print(Restocusine.score_user_cuis(user_cuisine))"
      ],
      "execution_count": null,
      "outputs": [
        {
          "output_type": "stream",
          "text": [
            "Your score restaurant cuisine: 100.0%\n",
            "Your score for user cuisine: 100.0%\n"
          ],
          "name": "stdout"
        }
      ]
    },
    {
      "cell_type": "markdown",
      "metadata": {
        "id": "lfne3OA8i-3t"
      },
      "source": [
        "#3. Resto Hours"
      ]
    },
    {
      "cell_type": "code",
      "metadata": {
        "id": "F8sHkJlrUEPo",
        "colab": {
          "base_uri": "https://localhost:8080/",
          "height": 431
        },
        "outputId": "73495c05-e958-418c-8e35-40c1e1b0a2c3"
      },
      "source": [
        "def restohours() :\n",
        "  #read dataset\n",
        "  df_restohours = pd.read_csv('/content/drive/My Drive/Python For Data Science Project/Week 4_Final Project/data/restohours.csv')\n",
        "  #clean\n",
        "  clean_data_restohours = df_restohours.copy()\n",
        "  clean_data_restohours['days'] = clean_data_restohours.days.str.replace(';','')\n",
        "  #Delete duplicated data\n",
        "  clean_data_restohours = clean_data_restohours.drop_duplicates(subset=None, keep='first', inplace=False)\n",
        "  #transform table from narrow to wide table\n",
        "  clean_data_restohours = clean_data_restohours.pivot_table(index='placeID', columns='days', values='hours', aggfunc='first')\n",
        "  clean_data_restohours.rename(columns = {'MonTueWedThuFri' : 'Mon'}, inplace=True)\n",
        "  col = clean_data_restohours['Mon']\n",
        "  clean_data_restohours.insert(1, 'Tue', col)\n",
        "  clean_data_restohours.insert(2, 'Wed', col)\n",
        "  clean_data_restohours.insert(3, 'Thu', col)\n",
        "  clean_data_restohours.insert(4, 'Fri', col)\n",
        "  #Fill missing value with 9999\n",
        "  clean_data_restohours = clean_data_restohours.fillna(9999)\n",
        "  return(clean_data_restohours)\n",
        "\n",
        "restohours()"
      ],
      "execution_count": null,
      "outputs": [
        {
          "output_type": "execute_result",
          "data": {
            "text/html": [
              "<div>\n",
              "<style scoped>\n",
              "    .dataframe tbody tr th:only-of-type {\n",
              "        vertical-align: middle;\n",
              "    }\n",
              "\n",
              "    .dataframe tbody tr th {\n",
              "        vertical-align: top;\n",
              "    }\n",
              "\n",
              "    .dataframe thead th {\n",
              "        text-align: right;\n",
              "    }\n",
              "</style>\n",
              "<table border=\"1\" class=\"dataframe\">\n",
              "  <thead>\n",
              "    <tr style=\"text-align: right;\">\n",
              "      <th>days</th>\n",
              "      <th>Mon</th>\n",
              "      <th>Tue</th>\n",
              "      <th>Wed</th>\n",
              "      <th>Thu</th>\n",
              "      <th>Fri</th>\n",
              "      <th>Sat</th>\n",
              "      <th>Sun</th>\n",
              "    </tr>\n",
              "    <tr>\n",
              "      <th>placeID</th>\n",
              "      <th></th>\n",
              "      <th></th>\n",
              "      <th></th>\n",
              "      <th></th>\n",
              "      <th></th>\n",
              "      <th></th>\n",
              "      <th></th>\n",
              "    </tr>\n",
              "  </thead>\n",
              "  <tbody>\n",
              "    <tr>\n",
              "      <th>132012</th>\n",
              "      <td>12:00-22:00;</td>\n",
              "      <td>12:00-22:00;</td>\n",
              "      <td>12:00-22:00;</td>\n",
              "      <td>12:00-22:00;</td>\n",
              "      <td>12:00-22:00;</td>\n",
              "      <td>12:00-22:00;</td>\n",
              "      <td>12:00-22:00;</td>\n",
              "    </tr>\n",
              "    <tr>\n",
              "      <th>132023</th>\n",
              "      <td>11:00-00:00;</td>\n",
              "      <td>11:00-00:00;</td>\n",
              "      <td>11:00-00:00;</td>\n",
              "      <td>11:00-00:00;</td>\n",
              "      <td>11:00-00:00;</td>\n",
              "      <td>11:00-00:00;</td>\n",
              "      <td>11:00-00:00;</td>\n",
              "    </tr>\n",
              "    <tr>\n",
              "      <th>132024</th>\n",
              "      <td>11:00-21:00;</td>\n",
              "      <td>11:00-21:00;</td>\n",
              "      <td>11:00-21:00;</td>\n",
              "      <td>11:00-21:00;</td>\n",
              "      <td>11:00-21:00;</td>\n",
              "      <td>11:00-21:00;</td>\n",
              "      <td>11:00-21:00;</td>\n",
              "    </tr>\n",
              "    <tr>\n",
              "      <th>132026</th>\n",
              "      <td>12:00-14:30;</td>\n",
              "      <td>12:00-14:30;</td>\n",
              "      <td>12:00-14:30;</td>\n",
              "      <td>12:00-14:30;</td>\n",
              "      <td>12:00-14:30;</td>\n",
              "      <td>9999</td>\n",
              "      <td>9999</td>\n",
              "    </tr>\n",
              "    <tr>\n",
              "      <th>132030</th>\n",
              "      <td>12:00-15:00;15:00-21:00;</td>\n",
              "      <td>12:00-15:00;15:00-21:00;</td>\n",
              "      <td>12:00-15:00;15:00-21:00;</td>\n",
              "      <td>12:00-15:00;15:00-21:00;</td>\n",
              "      <td>12:00-15:00;15:00-21:00;</td>\n",
              "      <td>12:00-15:00;15:00-21:00;</td>\n",
              "      <td>12:00-15:00;15:00-21:00;</td>\n",
              "    </tr>\n",
              "    <tr>\n",
              "      <th>...</th>\n",
              "      <td>...</td>\n",
              "      <td>...</td>\n",
              "      <td>...</td>\n",
              "      <td>...</td>\n",
              "      <td>...</td>\n",
              "      <td>...</td>\n",
              "      <td>...</td>\n",
              "    </tr>\n",
              "    <tr>\n",
              "      <th>135107</th>\n",
              "      <td>07:00-23:30;</td>\n",
              "      <td>07:00-23:30;</td>\n",
              "      <td>07:00-23:30;</td>\n",
              "      <td>07:00-23:30;</td>\n",
              "      <td>07:00-23:30;</td>\n",
              "      <td>07:00-23:30;</td>\n",
              "      <td>07:00-23:30;</td>\n",
              "    </tr>\n",
              "    <tr>\n",
              "      <th>135108</th>\n",
              "      <td>00:00-23:30;</td>\n",
              "      <td>00:00-23:30;</td>\n",
              "      <td>00:00-23:30;</td>\n",
              "      <td>00:00-23:30;</td>\n",
              "      <td>00:00-23:30;</td>\n",
              "      <td>00:00-23:30;</td>\n",
              "      <td>00:00-23:30;</td>\n",
              "    </tr>\n",
              "    <tr>\n",
              "      <th>135109</th>\n",
              "      <td>08:00-21:00;</td>\n",
              "      <td>08:00-21:00;</td>\n",
              "      <td>08:00-21:00;</td>\n",
              "      <td>08:00-21:00;</td>\n",
              "      <td>08:00-21:00;</td>\n",
              "      <td>08:00-21:00;</td>\n",
              "      <td>08:00-21:00;</td>\n",
              "    </tr>\n",
              "    <tr>\n",
              "      <th>135110</th>\n",
              "      <td>08:00-19:00;</td>\n",
              "      <td>08:00-19:00;</td>\n",
              "      <td>08:00-19:00;</td>\n",
              "      <td>08:00-19:00;</td>\n",
              "      <td>08:00-19:00;</td>\n",
              "      <td>00:00-00:00;</td>\n",
              "      <td>00:00-00:00;</td>\n",
              "    </tr>\n",
              "    <tr>\n",
              "      <th>135111</th>\n",
              "      <td>00:00-23:30;</td>\n",
              "      <td>00:00-23:30;</td>\n",
              "      <td>00:00-23:30;</td>\n",
              "      <td>00:00-23:30;</td>\n",
              "      <td>00:00-23:30;</td>\n",
              "      <td>00:00-23:30;</td>\n",
              "      <td>00:00-23:30;</td>\n",
              "    </tr>\n",
              "  </tbody>\n",
              "</table>\n",
              "<p>694 rows × 7 columns</p>\n",
              "</div>"
            ],
            "text/plain": [
              "days                          Mon  ...                       Sun\n",
              "placeID                            ...                          \n",
              "132012               12:00-22:00;  ...              12:00-22:00;\n",
              "132023               11:00-00:00;  ...              11:00-00:00;\n",
              "132024               11:00-21:00;  ...              11:00-21:00;\n",
              "132026               12:00-14:30;  ...                      9999\n",
              "132030   12:00-15:00;15:00-21:00;  ...  12:00-15:00;15:00-21:00;\n",
              "...                           ...  ...                       ...\n",
              "135107               07:00-23:30;  ...              07:00-23:30;\n",
              "135108               00:00-23:30;  ...              00:00-23:30;\n",
              "135109               08:00-21:00;  ...              08:00-21:00;\n",
              "135110               08:00-19:00;  ...              00:00-00:00;\n",
              "135111               00:00-23:30;  ...              00:00-23:30;\n",
              "\n",
              "[694 rows x 7 columns]"
            ]
          },
          "metadata": {
            "tags": []
          },
          "execution_count": 19
        }
      ]
    },
    {
      "cell_type": "code",
      "metadata": {
        "id": "mDweOMAQCb35"
      },
      "source": [
        "resto_hour = restohours()"
      ],
      "execution_count": null,
      "outputs": []
    },
    {
      "cell_type": "code",
      "metadata": {
        "id": "pL7ihclE1Y0H",
        "colab": {
          "base_uri": "https://localhost:8080/",
          "height": 52
        },
        "outputId": "e1cb658d-3353-498c-9dd9-33079a63cd7e"
      },
      "source": [
        "#RUN THIS CELL TO GET YOUR SCORE AND DO NOT EDIT\n",
        "import os\n",
        "\n",
        "os.chdir('/content/drive/My Drive/Python For Data Science Project/Week 4_Final Project/data')\n",
        "import Restohours\n",
        "import pandas as pd\n",
        "import numpy as np\n",
        "\n",
        "print(Restohours.score_resto_hours(resto_hour))"
      ],
      "execution_count": null,
      "outputs": [
        {
          "output_type": "stream",
          "text": [
            "4858\n",
            "Your score for restohours is: 100.0%\n"
          ],
          "name": "stdout"
        }
      ]
    },
    {
      "cell_type": "markdown",
      "metadata": {
        "id": "hjeiEgb2teKE"
      },
      "source": [
        "#4. Geoplaces"
      ]
    },
    {
      "cell_type": "code",
      "metadata": {
        "id": "24jESIOd6iDv",
        "colab": {
          "base_uri": "https://localhost:8080/",
          "height": 402
        },
        "outputId": "8bd3276c-4278-437a-90f1-7d338931bca2"
      },
      "source": [
        "def geoplaces() :\n",
        "  #read dataset\n",
        "  df_geoplaces = pd.read_csv('/content/drive/My Drive/Python For Data Science Project/Week 4_Final Project/data/geoplaces.csv')\n",
        "  #change all the form of cities to this form 'Cuernavaca', 'San Luis Potosi', 'Ciudad Victoria','Jiutepec', 'Soledad'\n",
        "  df_geoplaces['city'] = df_geoplaces.city.str.replace('cuernavaca','Cuernavaca')\n",
        "  df_geoplaces['city'] = df_geoplaces.city.str.replace('san luis potosi','San Luis Potosi').replace('s.l.p.','San Luis Potosi').replace('san luis potos','San Luis Potosi').replace('s.l.p','San Luis Potosi').replace('slp','San Luis Potosi')\n",
        "  df_geoplaces['city'] = df_geoplaces.city.str.replace('victoria','Ciudad Victoria').replace('Cd. Victoria','Ciudad Victoria').replace('Cd Victoria','Ciudad Victoria')\n",
        "  df_geoplaces['city'] = df_geoplaces.city.str.rstrip()\n",
        "  #change all missing values to empty string\n",
        "  df_geoplaces['city'] = df_geoplaces.city.str.replace('?','')\n",
        "  #change all the form of states to this form 'Morelos', 'San Luis Potosi', 'Tamaulipas', 'Mexico'\n",
        "  df_geoplaces['state'] = df_geoplaces.state.str.replace('morelos','Morelos')\n",
        "  df_geoplaces['state'] = df_geoplaces.state.str.replace('SLP','San Luis Potosi').replace('san luis potosi','San Luis Potosi').replace('S.L.P.','San Luis Potosi').replace('slp','San Luis Potosi').replace('s.l.p.','San Luis Potosi').replace('san luis potos','San Luis Potosi')\n",
        "  df_geoplaces['state'] = df_geoplaces.state.str.replace('tamaulipas','Tamaulipas')\n",
        "  df_geoplaces['state'] = df_geoplaces.state.str.replace('mexico','Mexico')\n",
        "  #change all missing values to empty string\n",
        "  df_geoplaces['state'] = df_geoplaces.state.str.replace('?','')\n",
        "  #change all the form of countries to ‘Mexico’\n",
        "  df_geoplaces['country'] = df_geoplaces.country.str.replace('mexico','Mexico')\n",
        "  #change all missing values to empty string\n",
        "  df_geoplaces['country'] = df_geoplaces.country.str.replace('?','')\n",
        "  #subset only contain ‘placeID’,’city’,’state’, and ’country’\n",
        "  return(df_geoplaces[['placeID','city','state','country']])\n",
        "\n",
        "geoplaces()"
      ],
      "execution_count": null,
      "outputs": [
        {
          "output_type": "execute_result",
          "data": {
            "text/html": [
              "<div>\n",
              "<style scoped>\n",
              "    .dataframe tbody tr th:only-of-type {\n",
              "        vertical-align: middle;\n",
              "    }\n",
              "\n",
              "    .dataframe tbody tr th {\n",
              "        vertical-align: top;\n",
              "    }\n",
              "\n",
              "    .dataframe thead th {\n",
              "        text-align: right;\n",
              "    }\n",
              "</style>\n",
              "<table border=\"1\" class=\"dataframe\">\n",
              "  <thead>\n",
              "    <tr style=\"text-align: right;\">\n",
              "      <th></th>\n",
              "      <th>placeID</th>\n",
              "      <th>city</th>\n",
              "      <th>state</th>\n",
              "      <th>country</th>\n",
              "    </tr>\n",
              "  </thead>\n",
              "  <tbody>\n",
              "    <tr>\n",
              "      <th>0</th>\n",
              "      <td>134999</td>\n",
              "      <td>Cuernavaca</td>\n",
              "      <td>Morelos</td>\n",
              "      <td>Mexico</td>\n",
              "    </tr>\n",
              "    <tr>\n",
              "      <th>1</th>\n",
              "      <td>132825</td>\n",
              "      <td>San Luis Potosi</td>\n",
              "      <td>San Luis Potosi</td>\n",
              "      <td>Mexico</td>\n",
              "    </tr>\n",
              "    <tr>\n",
              "      <th>2</th>\n",
              "      <td>135106</td>\n",
              "      <td>San Luis Potosi</td>\n",
              "      <td>San Luis Potosi</td>\n",
              "      <td>Mexico</td>\n",
              "    </tr>\n",
              "    <tr>\n",
              "      <th>3</th>\n",
              "      <td>132667</td>\n",
              "      <td>Ciudad Victoria</td>\n",
              "      <td>Tamaulipas</td>\n",
              "      <td></td>\n",
              "    </tr>\n",
              "    <tr>\n",
              "      <th>4</th>\n",
              "      <td>132613</td>\n",
              "      <td>Ciudad Victoria</td>\n",
              "      <td>Tamaulipas</td>\n",
              "      <td>Mexico</td>\n",
              "    </tr>\n",
              "    <tr>\n",
              "      <th>...</th>\n",
              "      <td>...</td>\n",
              "      <td>...</td>\n",
              "      <td>...</td>\n",
              "      <td>...</td>\n",
              "    </tr>\n",
              "    <tr>\n",
              "      <th>125</th>\n",
              "      <td>132866</td>\n",
              "      <td>San Luis Potosi</td>\n",
              "      <td>San Luis Potosi</td>\n",
              "      <td>Mexico</td>\n",
              "    </tr>\n",
              "    <tr>\n",
              "      <th>126</th>\n",
              "      <td>135072</td>\n",
              "      <td>San Luis Potosi</td>\n",
              "      <td>San Luis Potosi</td>\n",
              "      <td>Mexico</td>\n",
              "    </tr>\n",
              "    <tr>\n",
              "      <th>127</th>\n",
              "      <td>135109</td>\n",
              "      <td></td>\n",
              "      <td></td>\n",
              "      <td></td>\n",
              "    </tr>\n",
              "    <tr>\n",
              "      <th>128</th>\n",
              "      <td>135019</td>\n",
              "      <td>Jiutepec</td>\n",
              "      <td>Morelos</td>\n",
              "      <td>Mexico</td>\n",
              "    </tr>\n",
              "    <tr>\n",
              "      <th>129</th>\n",
              "      <td>132877</td>\n",
              "      <td></td>\n",
              "      <td></td>\n",
              "      <td></td>\n",
              "    </tr>\n",
              "  </tbody>\n",
              "</table>\n",
              "<p>130 rows × 4 columns</p>\n",
              "</div>"
            ],
            "text/plain": [
              "     placeID             city            state country\n",
              "0     134999       Cuernavaca          Morelos  Mexico\n",
              "1     132825  San Luis Potosi  San Luis Potosi  Mexico\n",
              "2     135106  San Luis Potosi  San Luis Potosi  Mexico\n",
              "3     132667  Ciudad Victoria       Tamaulipas        \n",
              "4     132613  Ciudad Victoria       Tamaulipas  Mexico\n",
              "..       ...              ...              ...     ...\n",
              "125   132866  San Luis Potosi  San Luis Potosi  Mexico\n",
              "126   135072  San Luis Potosi  San Luis Potosi  Mexico\n",
              "127   135109                                          \n",
              "128   135019         Jiutepec          Morelos  Mexico\n",
              "129   132877                                          \n",
              "\n",
              "[130 rows x 4 columns]"
            ]
          },
          "metadata": {
            "tags": []
          },
          "execution_count": 26
        }
      ]
    },
    {
      "cell_type": "code",
      "metadata": {
        "id": "CYKUdNIOEYuG"
      },
      "source": [
        "geo_places = geoplaces()"
      ],
      "execution_count": null,
      "outputs": []
    },
    {
      "cell_type": "code",
      "metadata": {
        "id": "utqvoCX9E6Nn",
        "colab": {
          "base_uri": "https://localhost:8080/",
          "height": 34
        },
        "outputId": "000fc870-4043-4d3e-e651-06925884284f"
      },
      "source": [
        "#RUN THIS CELL TO GET YOUR SCORE AND DO NOT EDIT\n",
        "import os\n",
        "\n",
        "os.chdir('/content/drive/My Drive/Python For Data Science Project/Week 4_Final Project/data')\n",
        "import geoplaces\n",
        "import pandas as pd\n",
        "import numpy as np\n",
        "\n",
        "geoplaces.score_geoplaces(geo_places)"
      ],
      "execution_count": null,
      "outputs": [
        {
          "output_type": "stream",
          "text": [
            "Your score for geoplaces is: 100.0%\n"
          ],
          "name": "stdout"
        }
      ]
    },
    {
      "cell_type": "markdown",
      "metadata": {
        "id": "9-v2o11KNyNp"
      },
      "source": [
        "# 5. Create Restaurant Attributes"
      ]
    },
    {
      "cell_type": "code",
      "metadata": {
        "id": "rkouImtQhZiB",
        "colab": {
          "base_uri": "https://localhost:8080/",
          "height": 402
        },
        "outputId": "6074f585-3525-4c15-c585-38b85afdac75"
      },
      "source": [
        "def restaurant() :\n",
        "  #Restaurant Attributes\n",
        "  resto_accepts = restoaccepts()\n",
        "  resto_cuisine = restocuisine()\n",
        "  resto_hours = restohours()\n",
        "  geo_places = geoplaces()\n",
        "\n",
        "  #Final DataFrame\n",
        "  df1 = pd.merge(resto_accepts, resto_cuisine, on='placeID', how='inner')\n",
        "  df2 = pd.merge(resto_hours, geo_places, on='placeID', how='inner')\n",
        "  df_restaurant = pd.merge(df1, df2, on='placeID', how='inner')\n",
        "  return(df_restaurant)\n",
        "\n",
        "restaurant()"
      ],
      "execution_count": null,
      "outputs": [
        {
          "output_type": "execute_result",
          "data": {
            "text/html": [
              "<div>\n",
              "<style scoped>\n",
              "    .dataframe tbody tr th:only-of-type {\n",
              "        vertical-align: middle;\n",
              "    }\n",
              "\n",
              "    .dataframe tbody tr th {\n",
              "        vertical-align: top;\n",
              "    }\n",
              "\n",
              "    .dataframe thead th {\n",
              "        text-align: right;\n",
              "    }\n",
              "</style>\n",
              "<table border=\"1\" class=\"dataframe\">\n",
              "  <thead>\n",
              "    <tr style=\"text-align: right;\">\n",
              "      <th></th>\n",
              "      <th>placeID</th>\n",
              "      <th>Rpayment</th>\n",
              "      <th>Rcuisine</th>\n",
              "      <th>Mon</th>\n",
              "      <th>Tue</th>\n",
              "      <th>Wed</th>\n",
              "      <th>Thu</th>\n",
              "      <th>Fri</th>\n",
              "      <th>Sat</th>\n",
              "      <th>Sun</th>\n",
              "      <th>city</th>\n",
              "      <th>state</th>\n",
              "      <th>country</th>\n",
              "    </tr>\n",
              "  </thead>\n",
              "  <tbody>\n",
              "    <tr>\n",
              "      <th>0</th>\n",
              "      <td>135109</td>\n",
              "      <td>Cash</td>\n",
              "      <td>Italian</td>\n",
              "      <td>08:00-21:00;</td>\n",
              "      <td>08:00-21:00;</td>\n",
              "      <td>08:00-21:00;</td>\n",
              "      <td>08:00-21:00;</td>\n",
              "      <td>08:00-21:00;</td>\n",
              "      <td>08:00-21:00;</td>\n",
              "      <td>08:00-21:00;</td>\n",
              "      <td></td>\n",
              "      <td></td>\n",
              "      <td></td>\n",
              "    </tr>\n",
              "    <tr>\n",
              "      <th>1</th>\n",
              "      <td>135106</td>\n",
              "      <td>Cash</td>\n",
              "      <td>Mexican</td>\n",
              "      <td>18:00-23:30;</td>\n",
              "      <td>18:00-23:30;</td>\n",
              "      <td>18:00-23:30;</td>\n",
              "      <td>18:00-23:30;</td>\n",
              "      <td>18:00-23:30;</td>\n",
              "      <td>18:00-23:30;</td>\n",
              "      <td>18:00-21:00;</td>\n",
              "      <td>San Luis Potosi</td>\n",
              "      <td>San Luis Potosi</td>\n",
              "      <td>Mexico</td>\n",
              "    </tr>\n",
              "    <tr>\n",
              "      <th>2</th>\n",
              "      <td>135106</td>\n",
              "      <td>VISA</td>\n",
              "      <td>Mexican</td>\n",
              "      <td>18:00-23:30;</td>\n",
              "      <td>18:00-23:30;</td>\n",
              "      <td>18:00-23:30;</td>\n",
              "      <td>18:00-23:30;</td>\n",
              "      <td>18:00-23:30;</td>\n",
              "      <td>18:00-23:30;</td>\n",
              "      <td>18:00-21:00;</td>\n",
              "      <td>San Luis Potosi</td>\n",
              "      <td>San Luis Potosi</td>\n",
              "      <td>Mexico</td>\n",
              "    </tr>\n",
              "    <tr>\n",
              "      <th>3</th>\n",
              "      <td>135106</td>\n",
              "      <td>Mastercard Eurocard</td>\n",
              "      <td>Mexican</td>\n",
              "      <td>18:00-23:30;</td>\n",
              "      <td>18:00-23:30;</td>\n",
              "      <td>18:00-23:30;</td>\n",
              "      <td>18:00-23:30;</td>\n",
              "      <td>18:00-23:30;</td>\n",
              "      <td>18:00-23:30;</td>\n",
              "      <td>18:00-21:00;</td>\n",
              "      <td>San Luis Potosi</td>\n",
              "      <td>San Luis Potosi</td>\n",
              "      <td>Mexico</td>\n",
              "    </tr>\n",
              "    <tr>\n",
              "      <th>4</th>\n",
              "      <td>135104</td>\n",
              "      <td>Cash</td>\n",
              "      <td>Mexican</td>\n",
              "      <td>00:00-23:30;</td>\n",
              "      <td>00:00-23:30;</td>\n",
              "      <td>00:00-23:30;</td>\n",
              "      <td>00:00-23:30;</td>\n",
              "      <td>00:00-23:30;</td>\n",
              "      <td>00:00-23:30;</td>\n",
              "      <td>00:00-23:30;</td>\n",
              "      <td></td>\n",
              "      <td></td>\n",
              "      <td></td>\n",
              "    </tr>\n",
              "    <tr>\n",
              "      <th>...</th>\n",
              "      <td>...</td>\n",
              "      <td>...</td>\n",
              "      <td>...</td>\n",
              "      <td>...</td>\n",
              "      <td>...</td>\n",
              "      <td>...</td>\n",
              "      <td>...</td>\n",
              "      <td>...</td>\n",
              "      <td>...</td>\n",
              "      <td>...</td>\n",
              "      <td>...</td>\n",
              "      <td>...</td>\n",
              "      <td>...</td>\n",
              "    </tr>\n",
              "    <tr>\n",
              "      <th>210</th>\n",
              "      <td>132608</td>\n",
              "      <td>Cash</td>\n",
              "      <td>Mexican</td>\n",
              "      <td>19:00-02:00;</td>\n",
              "      <td>19:00-02:00;</td>\n",
              "      <td>19:00-02:00;</td>\n",
              "      <td>19:00-02:00;</td>\n",
              "      <td>19:00-02:00;</td>\n",
              "      <td>19:00-02:00;</td>\n",
              "      <td>19:00-02:00;</td>\n",
              "      <td>Ciudad Victoria</td>\n",
              "      <td>Tamaulipas</td>\n",
              "      <td>Mexico</td>\n",
              "    </tr>\n",
              "    <tr>\n",
              "      <th>211</th>\n",
              "      <td>132594</td>\n",
              "      <td>Cash</td>\n",
              "      <td>Mexican</td>\n",
              "      <td>09:30-23:30;</td>\n",
              "      <td>09:30-23:30;</td>\n",
              "      <td>09:30-23:30;</td>\n",
              "      <td>09:30-23:30;</td>\n",
              "      <td>09:30-23:30;</td>\n",
              "      <td>09:00-23:30;</td>\n",
              "      <td>09:00-23:30;</td>\n",
              "      <td></td>\n",
              "      <td></td>\n",
              "      <td></td>\n",
              "    </tr>\n",
              "    <tr>\n",
              "      <th>212</th>\n",
              "      <td>132584</td>\n",
              "      <td>Cash</td>\n",
              "      <td>Mexican</td>\n",
              "      <td>08:30-20:00;</td>\n",
              "      <td>08:30-20:00;</td>\n",
              "      <td>08:30-20:00;</td>\n",
              "      <td>08:30-20:00;</td>\n",
              "      <td>08:30-20:00;</td>\n",
              "      <td>09:00-22:00;</td>\n",
              "      <td>09:00-20:30;</td>\n",
              "      <td></td>\n",
              "      <td></td>\n",
              "      <td></td>\n",
              "    </tr>\n",
              "    <tr>\n",
              "      <th>213</th>\n",
              "      <td>132572</td>\n",
              "      <td>Cash</td>\n",
              "      <td>Cafeteria</td>\n",
              "      <td>00:00-23:30;</td>\n",
              "      <td>00:00-23:30;</td>\n",
              "      <td>00:00-23:30;</td>\n",
              "      <td>00:00-23:30;</td>\n",
              "      <td>00:00-23:30;</td>\n",
              "      <td>00:00-23:30;</td>\n",
              "      <td>00:00-23:30;</td>\n",
              "      <td>San Luis Potosi</td>\n",
              "      <td>San Luis Potosi</td>\n",
              "      <td>Mexico</td>\n",
              "    </tr>\n",
              "    <tr>\n",
              "      <th>214</th>\n",
              "      <td>132560</td>\n",
              "      <td>Cash</td>\n",
              "      <td>Regional</td>\n",
              "      <td>08:00-12:00;</td>\n",
              "      <td>08:00-12:00;</td>\n",
              "      <td>08:00-12:00;</td>\n",
              "      <td>08:00-12:00;</td>\n",
              "      <td>08:00-12:00;</td>\n",
              "      <td>00:00-00:00;</td>\n",
              "      <td>00:00-00:00;</td>\n",
              "      <td>Ciudad Victoria</td>\n",
              "      <td>Tamaulipas</td>\n",
              "      <td>Mexico</td>\n",
              "    </tr>\n",
              "  </tbody>\n",
              "</table>\n",
              "<p>215 rows × 13 columns</p>\n",
              "</div>"
            ],
            "text/plain": [
              "     placeID             Rpayment  ...            state country\n",
              "0     135109                 Cash  ...                         \n",
              "1     135106                 Cash  ...  San Luis Potosi  Mexico\n",
              "2     135106                 VISA  ...  San Luis Potosi  Mexico\n",
              "3     135106  Mastercard Eurocard  ...  San Luis Potosi  Mexico\n",
              "4     135104                 Cash  ...                         \n",
              "..       ...                  ...  ...              ...     ...\n",
              "210   132608                 Cash  ...       Tamaulipas  Mexico\n",
              "211   132594                 Cash  ...                         \n",
              "212   132584                 Cash  ...                         \n",
              "213   132572                 Cash  ...  San Luis Potosi  Mexico\n",
              "214   132560                 Cash  ...       Tamaulipas  Mexico\n",
              "\n",
              "[215 rows x 13 columns]"
            ]
          },
          "metadata": {
            "tags": []
          },
          "execution_count": 27
        }
      ]
    },
    {
      "cell_type": "markdown",
      "metadata": {
        "id": "aOtBnSIdlwZ9"
      },
      "source": [
        "#Data Analysis"
      ]
    },
    {
      "cell_type": "markdown",
      "metadata": {
        "id": "v7wnRlVYlJOu"
      },
      "source": [
        "##1. Which student rate the most?"
      ]
    },
    {
      "cell_type": "code",
      "metadata": {
        "id": "7Wr0_NtilePo",
        "colab": {
          "base_uri": "https://localhost:8080/",
          "height": 87
        },
        "outputId": "88b2b47e-9020-4da0-e6f3-87a5553dade7"
      },
      "source": [
        "def student_rating() :\n",
        "  #read dataset userprofile\n",
        "  df_userprofile = pd.read_csv('/content/drive/My Drive/Python For Data Science Project/Week 4_Final Project/data/userprofile.csv')\n",
        "  #filtering user as student only\n",
        "  student = df_userprofile[df_userprofile.activity.str.contains('student')][['userID']]\n",
        "  #read dataset rating\n",
        "  df_rating = pd.read_csv('/content/drive/My Drive/Python For Data Science Project/Week 4_Final Project/data/rating_final.csv')\n",
        "  #merge two dataframe\n",
        "  student_rate = student.merge(df_rating, on='userID', how='inner')\n",
        "  return(student_rate)\n",
        "\n",
        "df = student_rating()\n",
        "df['userID'].value_counts().head(3)"
      ],
      "execution_count": null,
      "outputs": [
        {
          "output_type": "execute_result",
          "data": {
            "text/plain": [
              "U1134    16\n",
              "U1137    14\n",
              "U1022    14\n",
              "Name: userID, dtype: int64"
            ]
          },
          "metadata": {
            "tags": []
          },
          "execution_count": 30
        }
      ]
    },
    {
      "cell_type": "markdown",
      "metadata": {
        "id": "wrOETHvAG8jY"
      },
      "source": [
        "##2. What are the 5 names of the restaurant most visited?"
      ]
    },
    {
      "cell_type": "code",
      "metadata": {
        "id": "TFLfufOHlekI",
        "colab": {
          "base_uri": "https://localhost:8080/",
          "height": 122
        },
        "outputId": "37686804-e465-4334-c93f-2dc6dbff7b0a"
      },
      "source": [
        "def most_visited_restaurant() :\n",
        "  #read dataset geoplaces to get restaurant's name\n",
        "  df_geoplaces_name = pd.read_csv('/content/drive/My Drive/Python For Data Science Project/Week 4_Final Project/data/geoplaces.csv')\n",
        "  #read dataset rating\n",
        "  df_rating = pd.read_csv('/content/drive/My Drive/Python For Data Science Project/Week 4_Final Project/data/rating_final.csv')\n",
        "  #merge two dataframe\n",
        "  restaurant_visited = df_geoplaces_name.merge(df_rating, on='placeID', how='inner')[['userID','name','rating']]\n",
        "  return(restaurant_visited)\n",
        "  \n",
        "df = most_visited_restaurant()\n",
        "df['name'].value_counts().head(5)"
      ],
      "execution_count": null,
      "outputs": [
        {
          "output_type": "execute_result",
          "data": {
            "text/plain": [
              "Tortas Locas Hipocampo                36\n",
              "puesto de tacos                       32\n",
              "Cafeteria y Restaurant El Pacifico    28\n",
              "La Cantina Restaurante                25\n",
              "Gorditas Doa Gloria                   25\n",
              "Name: name, dtype: int64"
            ]
          },
          "metadata": {
            "tags": []
          },
          "execution_count": 33
        }
      ]
    },
    {
      "cell_type": "markdown",
      "metadata": {
        "id": "drTVokeEAEbv"
      },
      "source": [
        "##3. Is being the most visited mean having the highest rating?"
      ]
    },
    {
      "cell_type": "code",
      "metadata": {
        "id": "0JadeiQlAEDU",
        "colab": {
          "base_uri": "https://localhost:8080/",
          "height": 246
        },
        "outputId": "cecb7c32-310a-4b64-d3e3-659e6108be3a"
      },
      "source": [
        "#most visited restaurant based on rating mean value\n",
        "df = most_visited_restaurant()\n",
        "df.groupby('name')['rating'].mean().sort_values(ascending=False)"
      ],
      "execution_count": null,
      "outputs": [
        {
          "output_type": "execute_result",
          "data": {
            "text/plain": [
              "name\n",
              "Restaurant Las Mananitas                 2.000000\n",
              "Michiko Restaurant Japones               2.000000\n",
              "emilianos                                2.000000\n",
              "cafe punta del cielo                     1.833333\n",
              "La Estrella de Dimas                     1.800000\n",
              "                                           ...   \n",
              "puesto de gorditas                       0.500000\n",
              "tacos abi                                0.500000\n",
              "Abondance Restaurante Bar                0.500000\n",
              "Carnitas Mata  Calle 16 de Septiembre    0.250000\n",
              "Restaurant los Compadres                 0.250000\n",
              "Name: rating, Length: 129, dtype: float64"
            ]
          },
          "metadata": {
            "tags": []
          },
          "execution_count": 34
        }
      ]
    },
    {
      "cell_type": "markdown",
      "metadata": {
        "id": "MoOvRMrnLqxM"
      },
      "source": [
        "##4. What 5 restaurants having the highest average rating?"
      ]
    },
    {
      "cell_type": "code",
      "metadata": {
        "id": "sis0E1lQP4ZW",
        "colab": {
          "base_uri": "https://localhost:8080/",
          "height": 402
        },
        "outputId": "2486b117-6773-4617-fb8b-6ed0ff7c27e3"
      },
      "source": [
        "def geoplaces_name() :\n",
        "  #read dataset\n",
        "  df_geoplaces_name = pd.read_csv('/content/drive/My Drive/Python For Data Science Project/Week 4_Final Project/data/geoplaces.csv')\n",
        "  return(df_geoplaces_name[['placeID','name']])\n",
        "\n",
        "geoplaces_name()"
      ],
      "execution_count": null,
      "outputs": [
        {
          "output_type": "execute_result",
          "data": {
            "text/html": [
              "<div>\n",
              "<style scoped>\n",
              "    .dataframe tbody tr th:only-of-type {\n",
              "        vertical-align: middle;\n",
              "    }\n",
              "\n",
              "    .dataframe tbody tr th {\n",
              "        vertical-align: top;\n",
              "    }\n",
              "\n",
              "    .dataframe thead th {\n",
              "        text-align: right;\n",
              "    }\n",
              "</style>\n",
              "<table border=\"1\" class=\"dataframe\">\n",
              "  <thead>\n",
              "    <tr style=\"text-align: right;\">\n",
              "      <th></th>\n",
              "      <th>placeID</th>\n",
              "      <th>name</th>\n",
              "    </tr>\n",
              "  </thead>\n",
              "  <tbody>\n",
              "    <tr>\n",
              "      <th>0</th>\n",
              "      <td>134999</td>\n",
              "      <td>Kiku Cuernavaca</td>\n",
              "    </tr>\n",
              "    <tr>\n",
              "      <th>1</th>\n",
              "      <td>132825</td>\n",
              "      <td>puesto de tacos</td>\n",
              "    </tr>\n",
              "    <tr>\n",
              "      <th>2</th>\n",
              "      <td>135106</td>\n",
              "      <td>El Rinc�n de San Francisco</td>\n",
              "    </tr>\n",
              "    <tr>\n",
              "      <th>3</th>\n",
              "      <td>132667</td>\n",
              "      <td>little pizza Emilio Portes Gil</td>\n",
              "    </tr>\n",
              "    <tr>\n",
              "      <th>4</th>\n",
              "      <td>132613</td>\n",
              "      <td>carnitas_mata</td>\n",
              "    </tr>\n",
              "    <tr>\n",
              "      <th>...</th>\n",
              "      <td>...</td>\n",
              "      <td>...</td>\n",
              "    </tr>\n",
              "    <tr>\n",
              "      <th>125</th>\n",
              "      <td>132866</td>\n",
              "      <td>Chaires</td>\n",
              "    </tr>\n",
              "    <tr>\n",
              "      <th>126</th>\n",
              "      <td>135072</td>\n",
              "      <td>Sushi Itto</td>\n",
              "    </tr>\n",
              "    <tr>\n",
              "      <th>127</th>\n",
              "      <td>135109</td>\n",
              "      <td>Paniroles</td>\n",
              "    </tr>\n",
              "    <tr>\n",
              "      <th>128</th>\n",
              "      <td>135019</td>\n",
              "      <td>Restaurant Bar Coty y Pablo</td>\n",
              "    </tr>\n",
              "    <tr>\n",
              "      <th>129</th>\n",
              "      <td>132877</td>\n",
              "      <td>sirloin stockade</td>\n",
              "    </tr>\n",
              "  </tbody>\n",
              "</table>\n",
              "<p>130 rows × 2 columns</p>\n",
              "</div>"
            ],
            "text/plain": [
              "     placeID                            name\n",
              "0     134999                 Kiku Cuernavaca\n",
              "1     132825                 puesto de tacos\n",
              "2     135106      El Rinc�n de San Francisco\n",
              "3     132667  little pizza Emilio Portes Gil\n",
              "4     132613                   carnitas_mata\n",
              "..       ...                             ...\n",
              "125   132866                         Chaires\n",
              "126   135072                      Sushi Itto\n",
              "127   135109                       Paniroles\n",
              "128   135019     Restaurant Bar Coty y Pablo\n",
              "129   132877                sirloin stockade\n",
              "\n",
              "[130 rows x 2 columns]"
            ]
          },
          "metadata": {
            "tags": []
          },
          "execution_count": 35
        }
      ]
    },
    {
      "cell_type": "code",
      "metadata": {
        "id": "7zdwzw5-N2av",
        "colab": {
          "base_uri": "https://localhost:8080/",
          "height": 195
        },
        "outputId": "fe990e07-4744-4eb8-d6bf-5b23f6208485"
      },
      "source": [
        "def avg_rating() :\n",
        "  #read dataset rating\n",
        "  df_rating = pd.read_csv('/content/drive/My Drive/Python For Data Science Project/Week 4_Final Project/data/rating_final.csv')\n",
        "  #create new column avg_rating\n",
        "  df_rating['avg_rating'] = (df_rating.rating + df_rating.food_rating + df_rating.service_rating)/3\n",
        "  #create dataframe contains placeID and avg_rating\n",
        "  df_avg_rating = df_rating.groupby('placeID', as_index=False)['avg_rating'].mean().sort_values('avg_rating', ascending=False)\n",
        "  return(df_avg_rating)\n",
        "\n",
        "#get resto name\n",
        "highest_average = avg_rating()\n",
        "df_geoplaces_name = geoplaces_name()\n",
        "df_highest_resto_rate = highest_average.merge(df_geoplaces_name, on='placeID', how='inner')[['placeID','name','avg_rating']]\n",
        "df_highest_resto_rate.head(5)"
      ],
      "execution_count": null,
      "outputs": [
        {
          "output_type": "execute_result",
          "data": {
            "text/html": [
              "<div>\n",
              "<style scoped>\n",
              "    .dataframe tbody tr th:only-of-type {\n",
              "        vertical-align: middle;\n",
              "    }\n",
              "\n",
              "    .dataframe tbody tr th {\n",
              "        vertical-align: top;\n",
              "    }\n",
              "\n",
              "    .dataframe thead th {\n",
              "        text-align: right;\n",
              "    }\n",
              "</style>\n",
              "<table border=\"1\" class=\"dataframe\">\n",
              "  <thead>\n",
              "    <tr style=\"text-align: right;\">\n",
              "      <th></th>\n",
              "      <th>placeID</th>\n",
              "      <th>name</th>\n",
              "      <th>avg_rating</th>\n",
              "    </tr>\n",
              "  </thead>\n",
              "  <tbody>\n",
              "    <tr>\n",
              "      <th>0</th>\n",
              "      <td>134986</td>\n",
              "      <td>Restaurant Las Mananitas</td>\n",
              "      <td>2.000000</td>\n",
              "    </tr>\n",
              "    <tr>\n",
              "      <th>1</th>\n",
              "      <td>135034</td>\n",
              "      <td>Michiko Restaurant Japones</td>\n",
              "      <td>1.866667</td>\n",
              "    </tr>\n",
              "    <tr>\n",
              "      <th>2</th>\n",
              "      <td>132955</td>\n",
              "      <td>emilianos</td>\n",
              "      <td>1.866667</td>\n",
              "    </tr>\n",
              "    <tr>\n",
              "      <th>3</th>\n",
              "      <td>135013</td>\n",
              "      <td>Giovannis</td>\n",
              "      <td>1.833333</td>\n",
              "    </tr>\n",
              "    <tr>\n",
              "      <th>4</th>\n",
              "      <td>132755</td>\n",
              "      <td>La Estrella de Dimas</td>\n",
              "      <td>1.800000</td>\n",
              "    </tr>\n",
              "  </tbody>\n",
              "</table>\n",
              "</div>"
            ],
            "text/plain": [
              "   placeID                        name  avg_rating\n",
              "0   134986    Restaurant Las Mananitas    2.000000\n",
              "1   135034  Michiko Restaurant Japones    1.866667\n",
              "2   132955                   emilianos    1.866667\n",
              "3   135013                   Giovannis    1.833333\n",
              "4   132755        La Estrella de Dimas    1.800000"
            ]
          },
          "metadata": {
            "tags": []
          },
          "execution_count": 36
        }
      ]
    },
    {
      "cell_type": "markdown",
      "metadata": {
        "id": "GAMdzcwTMKC4"
      },
      "source": [
        "**RECOMMENDER**"
      ]
    },
    {
      "cell_type": "markdown",
      "metadata": {
        "id": "5rp8Vtg7MbGt"
      },
      "source": [
        "I want to eat at Japanese restaurant, and now my position is at the city of San Luis \n",
        "Potosi. Unfortunately, I don’t bring any cash cause I’m a cashless man. I don’t mind the price, \n",
        "so please recommend me two best Japanese restaurants based on the average rating."
      ]
    },
    {
      "cell_type": "code",
      "metadata": {
        "id": "T_QNZNx4MVF3",
        "colab": {
          "base_uri": "https://localhost:8080/",
          "height": 254
        },
        "outputId": "f2794369-6bd7-48c2-ac6b-4fed803827f7"
      },
      "source": [
        "def recommender() :\n",
        "  #call function \n",
        "  df_restaurant = restaurant()\n",
        "  df_avgrating = avg_rating()\n",
        "  #merge all data based on placeID\n",
        "  df = df_restaurant.merge(df_avgrating, on='placeID', how='inner')[['placeID','avg_rating','city','Rcuisine','Rpayment']]\n",
        "  #position_city = San Luis Potosi\n",
        "  df_city_position = df[df.city=='San Luis Potosi'][['placeID','avg_rating','city','Rcuisine','Rpayment']]\n",
        "  #cuisine = Japanese\n",
        "  df_cuisine = df_city_position[df_city_position.Rcuisine=='Japanese'][['placeID','avg_rating','city','Rcuisine','Rpayment']]\n",
        "  #payment = Cashless\n",
        "  df_payment = df_cuisine[df_cuisine.Rpayment != 'Cash']\n",
        "  #get resto name\n",
        "  df_geoplaces_name = geoplaces_name()\n",
        "  df_resto_name = df_payment.merge(df_geoplaces_name, on='placeID', how='inner')[['placeID','name','avg_rating','city','Rcuisine','Rpayment']]\n",
        "  df_resto_name = df_resto_name.set_index(['placeID', 'name','city','Rcuisine','Rpayment']).sort_values(['placeID', 'avg_rating'])\n",
        "  return(df_resto_name)\n",
        "\n",
        "recommender()"
      ],
      "execution_count": null,
      "outputs": [
        {
          "output_type": "execute_result",
          "data": {
            "text/html": [
              "<div>\n",
              "<style scoped>\n",
              "    .dataframe tbody tr th:only-of-type {\n",
              "        vertical-align: middle;\n",
              "    }\n",
              "\n",
              "    .dataframe tbody tr th {\n",
              "        vertical-align: top;\n",
              "    }\n",
              "\n",
              "    .dataframe thead th {\n",
              "        text-align: right;\n",
              "    }\n",
              "</style>\n",
              "<table border=\"1\" class=\"dataframe\">\n",
              "  <thead>\n",
              "    <tr style=\"text-align: right;\">\n",
              "      <th></th>\n",
              "      <th></th>\n",
              "      <th></th>\n",
              "      <th></th>\n",
              "      <th></th>\n",
              "      <th>avg_rating</th>\n",
              "    </tr>\n",
              "    <tr>\n",
              "      <th>placeID</th>\n",
              "      <th>name</th>\n",
              "      <th>city</th>\n",
              "      <th>Rcuisine</th>\n",
              "      <th>Rpayment</th>\n",
              "      <th></th>\n",
              "    </tr>\n",
              "  </thead>\n",
              "  <tbody>\n",
              "    <tr>\n",
              "      <th rowspan=\"3\" valign=\"top\">135034</th>\n",
              "      <th rowspan=\"3\" valign=\"top\">Michiko Restaurant Japones</th>\n",
              "      <th rowspan=\"3\" valign=\"top\">San Luis Potosi</th>\n",
              "      <th rowspan=\"3\" valign=\"top\">Japanese</th>\n",
              "      <th>VISA</th>\n",
              "      <td>1.866667</td>\n",
              "    </tr>\n",
              "    <tr>\n",
              "      <th>Mastercard Eurocard</th>\n",
              "      <td>1.866667</td>\n",
              "    </tr>\n",
              "    <tr>\n",
              "      <th>American Express</th>\n",
              "      <td>1.866667</td>\n",
              "    </tr>\n",
              "    <tr>\n",
              "      <th rowspan=\"3\" valign=\"top\">135072</th>\n",
              "      <th rowspan=\"3\" valign=\"top\">Sushi Itto</th>\n",
              "      <th rowspan=\"3\" valign=\"top\">San Luis Potosi</th>\n",
              "      <th rowspan=\"3\" valign=\"top\">Japanese</th>\n",
              "      <th>VISA</th>\n",
              "      <td>1.291667</td>\n",
              "    </tr>\n",
              "    <tr>\n",
              "      <th>Mastercard Eurocard</th>\n",
              "      <td>1.291667</td>\n",
              "    </tr>\n",
              "    <tr>\n",
              "      <th>American Express</th>\n",
              "      <td>1.291667</td>\n",
              "    </tr>\n",
              "  </tbody>\n",
              "</table>\n",
              "</div>"
            ],
            "text/plain": [
              "                                                                                 avg_rating\n",
              "placeID name                       city            Rcuisine Rpayment                       \n",
              "135034  Michiko Restaurant Japones San Luis Potosi Japanese VISA                   1.866667\n",
              "                                                            Mastercard Eurocard    1.866667\n",
              "                                                            American Express       1.866667\n",
              "135072  Sushi Itto                 San Luis Potosi Japanese VISA                   1.291667\n",
              "                                                            Mastercard Eurocard    1.291667\n",
              "                                                            American Express       1.291667"
            ]
          },
          "metadata": {
            "tags": []
          },
          "execution_count": 37
        }
      ]
    }
  ]
}